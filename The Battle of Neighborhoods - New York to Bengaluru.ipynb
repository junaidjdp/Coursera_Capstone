{
 "cells": [
  {
   "cell_type": "markdown",
   "metadata": {},
   "source": [
    "# Coursera Capstone Project\n",
    "\n",
    "## The Battle of Neighborhoods - New York to Bengaluru\n",
    "\n",
    "## Sheikh Junaid"
   ]
  },
  {
   "cell_type": "markdown",
   "metadata": {},
   "source": [
    "### Upload Libraries Required"
   ]
  },
  {
   "cell_type": "code",
   "execution_count": null,
   "metadata": {},
   "outputs": [],
   "source": [
    "import numpy as np # library to handle data in a vectorized manner\n",
    "import time\n",
    "import pandas as pd # library for data analsysis\n",
    "pd.set_option('display.max_columns', None)\n",
    "pd.set_option('display.max_rows', None)\n",
    "\n",
    "import json # library to handle JSON files\n",
    "import requests # library to handle requests\n",
    "from pandas.io.json import json_normalize # tranform JSON file into a pandas dataframe\n",
    "\n",
    "\n",
    "!conda install -c conda-forge geopy --yes # uncomment this line if you haven't completed the Foursquare API lab\n",
    "from geopy.geocoders import Nominatim # convert an address into latitude and longitude values\n",
    "\n",
    "!conda install -c conda-forge folium=0.5.0 --yes # uncomment this line if you haven't completed the Foursquare API lab\n",
    "import folium # map rendering library\n",
    "import folium # map rendering library\n",
    "from folium import plugins\n",
    "\n",
    "# Matplotlib and associated plotting modules\n",
    "import matplotlib.cm as cm\n",
    "import matplotlib.colors as colors\n",
    "\n",
    "import seaborn as sns\n",
    "\n",
    "# import k-means from clustering stage\n",
    "from sklearn.cluster import KMeans\n",
    "\n",
    "\n",
    "\n",
    "print('Libraries imported.')"
   ]
  },
  {
   "cell_type": "markdown",
   "metadata": {},
   "source": [
    "# Coursera Capstone - REPORT \n",
    "\n",
    "### Content\n",
    "\n",
    "1.\tIntroduction Section : \n",
    "\t\n",
    "    1.1 Background\n",
    "    \n",
    "    1.2 Problem to be resolved\n",
    "    \n",
    "    \n",
    "2.\tData Section:  \n",
    "    \n",
    "    2.1 Data of current location \n",
    "    \n",
    "    2.2 Data required to resolve the problem\n",
    "    \n",
    "    2.3 Data sources and data manipulation"
   ]
  },
  {
   "cell_type": "markdown",
   "metadata": {},
   "source": [
    "# 1.\tIntroduction Section : "
   ]
  },
  {
   "cell_type": "markdown",
   "metadata": {},
   "source": [
    "### 1.1 Scenario and  Background\n",
    "\n",
    "ABC client is planning to move Bengaluru in India to expand the business horizons. He currently stays in Carnegie Hill and wants to find a similar residential area in Bengaluru to settle in.\n",
    "\n",
    "The job here is to recommend the most suitable location to move into. Transportation is also an important factor. Client should walk to premise within 3 minutes from public transport facilities such as bus stop and metro station. Also, certain amenities such as Cafe, Pizza Place, Yoga Studio and Bookstores are a must to decide a particular area."
   ]
  },
  {
   "cell_type": "markdown",
   "metadata": {},
   "source": [
    "### 1.2  Problem to be resolved:   \n",
    "\n",
    "The challenge to resolve is being able to find a rental apartment unit in Bengaluru, India that offers similar characteristics and benefits to Carnegie Hill. \n",
    "\n",
    "Therefore, we need to find -\n",
    "- Neighbourhood similar to Carnegie Hills in Bengaluru, India\n",
    "- Residential Unit in the area recommended\n",
    "- Close proximity to public transport facilities, Cafe, Pizza Place, Yoga Studio and Bookstores"
   ]
  },
  {
   "cell_type": "markdown",
   "metadata": {},
   "source": [
    "# 2. Data Section:"
   ]
  },
  {
   "cell_type": "markdown",
   "metadata": {},
   "source": [
    "### 2.1 Data of Current location\n",
    "Current location of the client is Carnegie Hill. \n",
    "Foursquare is used to identify the venues around the area of residence which are then shown in the New York map. \n",
    "It serves as a reference for comparison with the desired future location in Bengaluru, India."
   ]
  },
  {
   "cell_type": "markdown",
   "metadata": {},
   "source": [
    "### 2.2 Data Required to resolve the problem\n",
    "In order to make a good choice of a similar apartment in Bengaluru, India; the following data is required:\n",
    "- List/Information on neighborhoods form Manhattan with their Geodata (latitude and longitude).\n",
    "- List/Information about the subway metro stations in Manhattan with geodata.\n",
    "- Listed apartments for rent in Manhattan area with descriptions ( how many beds, price, location, address)\n",
    "- Venues and ammenities in the Manhattan neighborhoods (e.g. top 10)\n",
    "\n",
    "### 2.3 Sources and Manipulation\n",
    "Data for Manhattan neighbourhoods workded out during Lab exercise will be directly used. The clustering of neighborhoods and mapping will be shown. \n",
    "\n",
    "Data for public transport facilities in Bengaluru was compiled from wikipedia including the addresses.\n",
    "\n",
    "\n",
    "### 2.4 How the data will be used to solve the problem\n",
    "The data will be used as follows:\n",
    "- Use Foursquare and geopy data to map top 10 venues for all Bengaluru neighborhoods and clustered in groups\n",
    "- Use foursquare and geopy data to map the location of subway metro stations , separately and on top of the above clustered map in order to be able to identify the venues and ammenities near each metro station, or explore each subway location separately\n",
    "- Use Foursquare and geopy data to map the location of residential places linked to the subway locations.\n",
    "- create a map that depicts, around a radious of 1.0 mile (1.6 km) around each subway station - or similar metrics. \n",
    "\n",
    "### 2.5 Mapping of Data\n",
    "The following maps were created to facilitate the analysis and the choice of the palace to live.\n",
    "- Bengaluru map of Neighborhoods\n",
    "- Bengaluru subway metro locations\n",
    "- Bengaluru map of clustered venues and neighborhoods\n",
    "- Combined maps of Bengaluru rent places with subway locations\n",
    "- Combined maps of Bengaluru rent places with subway locations and venues clusters"
   ]
  },
  {
   "cell_type": "code",
   "execution_count": null,
   "metadata": {},
   "outputs": [],
   "source": []
  }
 ],
 "metadata": {
  "kernelspec": {
   "display_name": "Python 3",
   "language": "python",
   "name": "python3"
  },
  "language_info": {
   "codemirror_mode": {
    "name": "ipython",
    "version": 3
   },
   "file_extension": ".py",
   "mimetype": "text/x-python",
   "name": "python",
   "nbconvert_exporter": "python",
   "pygments_lexer": "ipython3",
   "version": "3.7.1"
  }
 },
 "nbformat": 4,
 "nbformat_minor": 2
}
